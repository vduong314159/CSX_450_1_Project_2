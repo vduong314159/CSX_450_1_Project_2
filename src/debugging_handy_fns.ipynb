{
 "cells": [
  {
   "cell_type": "code",
   "execution_count": 4,
   "metadata": {},
   "outputs": [],
   "source": [
    "source('../src/vivians_handy_fns.r')"
   ]
  },
  {
   "cell_type": "code",
   "execution_count": 5,
   "metadata": {},
   "outputs": [
    {
     "name": "stderr",
     "output_type": "stream",
     "text": [
      "Warning message in library(package, lib.loc = lib.loc, character.only = TRUE, logical.return = TRUE, :\n",
      "“there is no package called ‘pkg’”"
     ]
    },
    {
     "name": "stdout",
     "output_type": "stream",
     "text": [
      "installing pkg"
     ]
    },
    {
     "name": "stderr",
     "output_type": "stream",
     "text": [
      "Warning message in download.packages(pkgs, destdir = tmpd, available = available, :\n",
      "“download of package ‘mlbench’ failed”"
     ]
    },
    {
     "name": "stdout",
     "output_type": "stream",
     "text": [
      "loadg pkg ie running library(package_name)"
     ]
    },
    {
     "ename": "ERROR",
     "evalue": "Error in library(pkg, character.only = FALSE): there is no package called ‘pkg’\n",
     "output_type": "error",
     "traceback": [
      "Error in library(pkg, character.only = FALSE): there is no package called ‘pkg’\nTraceback:\n",
      "1. install_load_pkg(\"mlbench\")",
      "2. library(pkg, character.only = FALSE)",
      "3. stop(txt, domain = NA)"
     ]
    }
   ],
   "source": [
    "install_load_pkg('mlbench')"
   ]
  },
  {
   "cell_type": "code",
   "execution_count": null,
   "metadata": {},
   "outputs": [],
   "source": []
  }
 ],
 "metadata": {
  "kernelspec": {
   "display_name": "R",
   "language": "R",
   "name": "ir"
  },
  "language_info": {
   "codemirror_mode": "r",
   "file_extension": ".r",
   "mimetype": "text/x-r-source",
   "name": "R",
   "pygments_lexer": "r",
   "version": "3.3.2"
  }
 },
 "nbformat": 4,
 "nbformat_minor": 2
}
