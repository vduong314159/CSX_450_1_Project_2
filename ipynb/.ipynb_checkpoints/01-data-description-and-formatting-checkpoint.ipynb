{
 "cells": [
  {
   "cell_type": "code",
   "execution_count": 1,
   "metadata": {},
   "outputs": [],
   "source": [
    "library(mlbench); library(ggplot2); library(GGally)"
   ]
  },
  {
   "cell_type": "markdown",
   "metadata": {},
   "source": [
    "## Starting Project\n",
    "We start by just getting a general idea of the data and formatting the data as appropriate. For example, the dataset may load some numbers in as string data type when a numeric data type would be more appropriate.\n",
    "\n",
    "We will put code that pulls the dataset and makes those edits in an R file, called load_data.r, that I will run at the top of each notebook. The following notebooks will not run `wholesale_data <- read.csv('../data/dataset.csv', header = TRUE)` but rather `source('../src/load_data.r')`"
   ]
  },
  {
   "cell_type": "code",
   "execution_count": 2,
   "metadata": {},
   "outputs": [],
   "source": [
    "wholesale_data = read.csv('../data/dataset.csv', header = TRUE)"
   ]
  },
  {
   "cell_type": "markdown",
   "metadata": {},
   "source": [
    "## Dataset Description\n",
    "We will just get some basic descriptors of the data set such as the dimensions, memory size, what the first dozen or so rows look like, data types in the dataset, and the dataset's memory size. We will make sure that the data loaded correctly and matches the description from the UCI Machine Learning Repository."
   ]
  },
  {
   "cell_type": "code",
   "execution_count": 3,
   "metadata": {},
   "outputs": [
    {
     "data": {
      "text/html": [
       "<ol class=list-inline>\n",
       "\t<li>440</li>\n",
       "\t<li>8</li>\n",
       "</ol>\n"
      ],
      "text/latex": [
       "\\begin{enumerate*}\n",
       "\\item 440\n",
       "\\item 8\n",
       "\\end{enumerate*}\n"
      ],
      "text/markdown": [
       "1. 440\n",
       "2. 8\n",
       "\n",
       "\n"
      ],
      "text/plain": [
       "[1] 440   8"
      ]
     },
     "metadata": {},
     "output_type": "display_data"
    }
   ],
   "source": [
    "# dim stands for dimensions\n",
    "dim(wholesale_data)"
   ]
  },
  {
   "cell_type": "code",
   "execution_count": 5,
   "metadata": {},
   "outputs": [
    {
     "data": {
      "text/plain": [
       "15512 bytes"
      ]
     },
     "metadata": {},
     "output_type": "display_data"
    }
   ],
   "source": [
    "# size in memory\n",
    "object.size(wholesale_data)"
   ]
  },
  {
   "cell_type": "code",
   "execution_count": 4,
   "metadata": {},
   "outputs": [
    {
     "data": {
      "text/html": [
       "<table>\n",
       "<thead><tr><th scope=col>Channel</th><th scope=col>Region</th><th scope=col>Fresh</th><th scope=col>Milk</th><th scope=col>Grocery</th><th scope=col>Frozen</th><th scope=col>Detergents_Paper</th><th scope=col>Delicassen</th></tr></thead>\n",
       "<tbody>\n",
       "\t<tr><td>2    </td><td>3    </td><td>12669</td><td>9656 </td><td>7561 </td><td> 214 </td><td>2674 </td><td>1338 </td></tr>\n",
       "\t<tr><td>2    </td><td>3    </td><td> 7057</td><td>9810 </td><td>9568 </td><td>1762 </td><td>3293 </td><td>1776 </td></tr>\n",
       "\t<tr><td>2    </td><td>3    </td><td> 6353</td><td>8808 </td><td>7684 </td><td>2405 </td><td>3516 </td><td>7844 </td></tr>\n",
       "\t<tr><td>1    </td><td>3    </td><td>13265</td><td>1196 </td><td>4221 </td><td>6404 </td><td> 507 </td><td>1788 </td></tr>\n",
       "\t<tr><td>2    </td><td>3    </td><td>22615</td><td>5410 </td><td>7198 </td><td>3915 </td><td>1777 </td><td>5185 </td></tr>\n",
       "\t<tr><td>2    </td><td>3    </td><td> 9413</td><td>8259 </td><td>5126 </td><td> 666 </td><td>1795 </td><td>1451 </td></tr>\n",
       "</tbody>\n",
       "</table>\n"
      ],
      "text/latex": [
       "\\begin{tabular}{r|llllllll}\n",
       " Channel & Region & Fresh & Milk & Grocery & Frozen & Detergents\\_Paper & Delicassen\\\\\n",
       "\\hline\n",
       "\t 2     & 3     & 12669 & 9656  & 7561  &  214  & 2674  & 1338 \\\\\n",
       "\t 2     & 3     &  7057 & 9810  & 9568  & 1762  & 3293  & 1776 \\\\\n",
       "\t 2     & 3     &  6353 & 8808  & 7684  & 2405  & 3516  & 7844 \\\\\n",
       "\t 1     & 3     & 13265 & 1196  & 4221  & 6404  &  507  & 1788 \\\\\n",
       "\t 2     & 3     & 22615 & 5410  & 7198  & 3915  & 1777  & 5185 \\\\\n",
       "\t 2     & 3     &  9413 & 8259  & 5126  &  666  & 1795  & 1451 \\\\\n",
       "\\end{tabular}\n"
      ],
      "text/markdown": [
       "\n",
       "Channel | Region | Fresh | Milk | Grocery | Frozen | Detergents_Paper | Delicassen | \n",
       "|---|---|---|---|---|---|\n",
       "| 2     | 3     | 12669 | 9656  | 7561  |  214  | 2674  | 1338  | \n",
       "| 2     | 3     |  7057 | 9810  | 9568  | 1762  | 3293  | 1776  | \n",
       "| 2     | 3     |  6353 | 8808  | 7684  | 2405  | 3516  | 7844  | \n",
       "| 1     | 3     | 13265 | 1196  | 4221  | 6404  |  507  | 1788  | \n",
       "| 2     | 3     | 22615 | 5410  | 7198  | 3915  | 1777  | 5185  | \n",
       "| 2     | 3     |  9413 | 8259  | 5126  |  666  | 1795  | 1451  | \n",
       "\n",
       "\n"
      ],
      "text/plain": [
       "  Channel Region Fresh Milk Grocery Frozen Detergents_Paper Delicassen\n",
       "1 2       3      12669 9656 7561     214   2674             1338      \n",
       "2 2       3       7057 9810 9568    1762   3293             1776      \n",
       "3 2       3       6353 8808 7684    2405   3516             7844      \n",
       "4 1       3      13265 1196 4221    6404    507             1788      \n",
       "5 2       3      22615 5410 7198    3915   1777             5185      \n",
       "6 2       3       9413 8259 5126     666   1795             1451      "
      ]
     },
     "metadata": {},
     "output_type": "display_data"
    }
   ],
   "source": [
    "# first dozen or so rows\n",
    "head(wholesale_data)"
   ]
  },
  {
   "cell_type": "code",
   "execution_count": 6,
   "metadata": {},
   "outputs": [
    {
     "name": "stdout",
     "output_type": "stream",
     "text": [
      "'data.frame':\t440 obs. of  8 variables:\n",
      " $ Channel         : int  2 2 2 1 2 2 2 2 1 2 ...\n",
      " $ Region          : int  3 3 3 3 3 3 3 3 3 3 ...\n",
      " $ Fresh           : int  12669 7057 6353 13265 22615 9413 12126 7579 5963 6006 ...\n",
      " $ Milk            : int  9656 9810 8808 1196 5410 8259 3199 4956 3648 11093 ...\n",
      " $ Grocery         : int  7561 9568 7684 4221 7198 5126 6975 9426 6192 18881 ...\n",
      " $ Frozen          : int  214 1762 2405 6404 3915 666 480 1669 425 1159 ...\n",
      " $ Detergents_Paper: int  2674 3293 3516 507 1777 1795 3140 3321 1716 7425 ...\n",
      " $ Delicassen      : int  1338 1776 7844 1788 5185 1451 545 2566 750 2098 ...\n"
     ]
    }
   ],
   "source": [
    "#str stands for structure\n",
    "str(wholesale_data)"
   ]
  },
  {
   "cell_type": "markdown",
   "metadata": {},
   "source": [
    "### Summary Statistics"
   ]
  },
  {
   "cell_type": "code",
   "execution_count": 7,
   "metadata": {},
   "outputs": [
    {
     "data": {
      "text/plain": [
       "    Channel          Region          Fresh             Milk      \n",
       " Min.   :1.000   Min.   :1.000   Min.   :     3   Min.   :   55  \n",
       " 1st Qu.:1.000   1st Qu.:2.000   1st Qu.:  3128   1st Qu.: 1533  \n",
       " Median :1.000   Median :3.000   Median :  8504   Median : 3627  \n",
       " Mean   :1.323   Mean   :2.543   Mean   : 12000   Mean   : 5796  \n",
       " 3rd Qu.:2.000   3rd Qu.:3.000   3rd Qu.: 16934   3rd Qu.: 7190  \n",
       " Max.   :2.000   Max.   :3.000   Max.   :112151   Max.   :73498  \n",
       "    Grocery          Frozen        Detergents_Paper    Delicassen     \n",
       " Min.   :    3   Min.   :   25.0   Min.   :    3.0   Min.   :    3.0  \n",
       " 1st Qu.: 2153   1st Qu.:  742.2   1st Qu.:  256.8   1st Qu.:  408.2  \n",
       " Median : 4756   Median : 1526.0   Median :  816.5   Median :  965.5  \n",
       " Mean   : 7951   Mean   : 3071.9   Mean   : 2881.5   Mean   : 1524.9  \n",
       " 3rd Qu.:10656   3rd Qu.: 3554.2   3rd Qu.: 3922.0   3rd Qu.: 1820.2  \n",
       " Max.   :92780   Max.   :60869.0   Max.   :40827.0   Max.   :47943.0  "
      ]
     },
     "metadata": {},
     "output_type": "display_data"
    }
   ],
   "source": [
    "summary(wholesale_data)"
   ]
  },
  {
   "cell_type": "markdown",
   "metadata": {},
   "source": [
    "## Data Conditioning"
   ]
  },
  {
   "cell_type": "markdown",
   "metadata": {},
   "source": [
    "### Fixing Spelling Error\n",
    "There is a typo in the dataset. \"Delicatessen\" is spelled incorrectly. We will change column name to \"Deli\" which is more commonly used than the long form in the U.S. at least."
   ]
  },
  {
   "cell_type": "code",
   "execution_count": 8,
   "metadata": {
    "scrolled": true
   },
   "outputs": [
    {
     "data": {
      "text/html": [
       "<table>\n",
       "<thead><tr><th scope=col>Channel</th><th scope=col>Region</th><th scope=col>Fresh</th><th scope=col>Milk</th><th scope=col>Grocery</th><th scope=col>Frozen</th><th scope=col>Detergents_Paper</th><th scope=col>Deli</th></tr></thead>\n",
       "<tbody>\n",
       "\t<tr><td>2    </td><td>3    </td><td>12669</td><td>9656 </td><td>7561 </td><td> 214 </td><td>2674 </td><td>1338 </td></tr>\n",
       "\t<tr><td>2    </td><td>3    </td><td> 7057</td><td>9810 </td><td>9568 </td><td>1762 </td><td>3293 </td><td>1776 </td></tr>\n",
       "\t<tr><td>2    </td><td>3    </td><td> 6353</td><td>8808 </td><td>7684 </td><td>2405 </td><td>3516 </td><td>7844 </td></tr>\n",
       "\t<tr><td>1    </td><td>3    </td><td>13265</td><td>1196 </td><td>4221 </td><td>6404 </td><td> 507 </td><td>1788 </td></tr>\n",
       "\t<tr><td>2    </td><td>3    </td><td>22615</td><td>5410 </td><td>7198 </td><td>3915 </td><td>1777 </td><td>5185 </td></tr>\n",
       "\t<tr><td>2    </td><td>3    </td><td> 9413</td><td>8259 </td><td>5126 </td><td> 666 </td><td>1795 </td><td>1451 </td></tr>\n",
       "</tbody>\n",
       "</table>\n"
      ],
      "text/latex": [
       "\\begin{tabular}{r|llllllll}\n",
       " Channel & Region & Fresh & Milk & Grocery & Frozen & Detergents\\_Paper & Deli\\\\\n",
       "\\hline\n",
       "\t 2     & 3     & 12669 & 9656  & 7561  &  214  & 2674  & 1338 \\\\\n",
       "\t 2     & 3     &  7057 & 9810  & 9568  & 1762  & 3293  & 1776 \\\\\n",
       "\t 2     & 3     &  6353 & 8808  & 7684  & 2405  & 3516  & 7844 \\\\\n",
       "\t 1     & 3     & 13265 & 1196  & 4221  & 6404  &  507  & 1788 \\\\\n",
       "\t 2     & 3     & 22615 & 5410  & 7198  & 3915  & 1777  & 5185 \\\\\n",
       "\t 2     & 3     &  9413 & 8259  & 5126  &  666  & 1795  & 1451 \\\\\n",
       "\\end{tabular}\n"
      ],
      "text/markdown": [
       "\n",
       "Channel | Region | Fresh | Milk | Grocery | Frozen | Detergents_Paper | Deli | \n",
       "|---|---|---|---|---|---|\n",
       "| 2     | 3     | 12669 | 9656  | 7561  |  214  | 2674  | 1338  | \n",
       "| 2     | 3     |  7057 | 9810  | 9568  | 1762  | 3293  | 1776  | \n",
       "| 2     | 3     |  6353 | 8808  | 7684  | 2405  | 3516  | 7844  | \n",
       "| 1     | 3     | 13265 | 1196  | 4221  | 6404  |  507  | 1788  | \n",
       "| 2     | 3     | 22615 | 5410  | 7198  | 3915  | 1777  | 5185  | \n",
       "| 2     | 3     |  9413 | 8259  | 5126  |  666  | 1795  | 1451  | \n",
       "\n",
       "\n"
      ],
      "text/plain": [
       "  Channel Region Fresh Milk Grocery Frozen Detergents_Paper Deli\n",
       "1 2       3      12669 9656 7561     214   2674             1338\n",
       "2 2       3       7057 9810 9568    1762   3293             1776\n",
       "3 2       3       6353 8808 7684    2405   3516             7844\n",
       "4 1       3      13265 1196 4221    6404    507             1788\n",
       "5 2       3      22615 5410 7198    3915   1777             5185\n",
       "6 2       3       9413 8259 5126     666   1795             1451"
      ]
     },
     "metadata": {},
     "output_type": "display_data"
    }
   ],
   "source": [
    "colnames(wholesale_data)[8] <- 'Deli'\n",
    "head(wholesale_data)"
   ]
  },
  {
   "cell_type": "markdown",
   "metadata": {},
   "source": [
    "### Making Dataset More Readable and Understandable"
   ]
  },
  {
   "cell_type": "markdown",
   "metadata": {},
   "source": [
    "From the output of `str(wholesale_data)`, we see that all the data is of type integer which matches the UCI Machine Learning repository's description of the dataset. I will change those integers to the actual names of channels and regions.\n",
    "\n",
    "We can what region 1, 2, and 3 correspond by matching the frequency of each region with the frequency given in the dataset description. In the dataset, the regions are called region 1, 2, and 3. \n",
    "From the dataset description:  \n",
    "REGION\tFrequency  \n",
    "Lisbon\t77  \n",
    "Oporto\t47  \n",
    "Other Region 316   \n",
    "Total\t440\n",
    "\n",
    "We used the same method to determine what channels 1 and 2 were.   \n",
    "CHANNEL\tFrequency  \n",
    "Horeca\t298  \n",
    "Retail 142  \n",
    "Total 440 "
   ]
  },
  {
   "cell_type": "code",
   "execution_count": 9,
   "metadata": {},
   "outputs": [
    {
     "name": "stdout",
     "output_type": "stream",
     "text": [
      "Channel"
     ]
    },
    {
     "data": {
      "text/plain": [
       "\n",
       "  1   2 \n",
       "298 142 "
      ]
     },
     "metadata": {},
     "output_type": "display_data"
    },
    {
     "name": "stdout",
     "output_type": "stream",
     "text": [
      "Region"
     ]
    },
    {
     "data": {
      "text/plain": [
       "\n",
       "  1   2   3 \n",
       " 77  47 316 "
      ]
     },
     "metadata": {},
     "output_type": "display_data"
    }
   ],
   "source": [
    "# This will give me the frequency of 1 and 2 in Channel column\n",
    "cat(\"Channel\"); table(wholesale_data$Channel)\n",
    "# This will give me the frequency of 1, 2, and 3 in Region column\n",
    "cat(\"Region\"); table(wholesale_data$Region)"
   ]
  },
  {
   "cell_type": "markdown",
   "metadata": {},
   "source": [
    "We can infer the following.  \n",
    "Region 1 is Lisbon  \n",
    "Region 2 is Oporto  \n",
    "Region 3 is \"Other Region\". \n",
    "\n",
    "\n",
    "Channel 1 is Horeca (which stands for hotel/restaurant/cafe).  \n",
    "Channel 2 is retail. "
   ]
  },
  {
   "cell_type": "code",
   "execution_count": 10,
   "metadata": {},
   "outputs": [],
   "source": [
    "wholesale_data$Channel[wholesale_data$Channel == 1] <- \"Horeca\"\n",
    "wholesale_data$Channel[wholesale_data$Channel == 2] <- \"Retail\"\n",
    "\n",
    "wholesale_data$Region[wholesale_data$Region == 1] <- \"Lisbon\"\n",
    "wholesale_data$Region[wholesale_data$Region == 2] <- \"Oporto\"\n",
    "wholesale_data$Region[wholesale_data$Region == 3] <- \"Other\""
   ]
  },
  {
   "cell_type": "markdown",
   "metadata": {},
   "source": [
    "By changing the datatypes of the Channel and Region columns from integers to factors (categorical values in R), we are also telling R that those two features are not numerical factors. This affects calculations. We see this in how the summary statistics have changed."
   ]
  },
  {
   "cell_type": "code",
   "execution_count": 11,
   "metadata": {
    "scrolled": false
   },
   "outputs": [
    {
     "data": {
      "text/plain": [
       "   Channel             Region              Fresh             Milk      \n",
       " Length:440         Length:440         Min.   :     3   Min.   :   55  \n",
       " Class :character   Class :character   1st Qu.:  3128   1st Qu.: 1533  \n",
       " Mode  :character   Mode  :character   Median :  8504   Median : 3627  \n",
       "                                       Mean   : 12000   Mean   : 5796  \n",
       "                                       3rd Qu.: 16934   3rd Qu.: 7190  \n",
       "                                       Max.   :112151   Max.   :73498  \n",
       "    Grocery          Frozen        Detergents_Paper       Deli        \n",
       " Min.   :    3   Min.   :   25.0   Min.   :    3.0   Min.   :    3.0  \n",
       " 1st Qu.: 2153   1st Qu.:  742.2   1st Qu.:  256.8   1st Qu.:  408.2  \n",
       " Median : 4756   Median : 1526.0   Median :  816.5   Median :  965.5  \n",
       " Mean   : 7951   Mean   : 3071.9   Mean   : 2881.5   Mean   : 1524.9  \n",
       " 3rd Qu.:10656   3rd Qu.: 3554.2   3rd Qu.: 3922.0   3rd Qu.: 1820.2  \n",
       " Max.   :92780   Max.   :60869.0   Max.   :40827.0   Max.   :47943.0  "
      ]
     },
     "metadata": {},
     "output_type": "display_data"
    }
   ],
   "source": [
    "summary(wholesale_data)"
   ]
  },
  {
   "cell_type": "markdown",
   "metadata": {},
   "source": [
    "### Checking for NA and Null Values"
   ]
  },
  {
   "cell_type": "code",
   "execution_count": 12,
   "metadata": {},
   "outputs": [
    {
     "name": "stdout",
     "output_type": "stream",
     "text": [
      "[1] 0\n",
      "[1] 0\n"
     ]
    }
   ],
   "source": [
    "## checkg for NA\n",
    "# in R: TRUE + TRUE = 2\n",
    "print(sum(is.na(wholesale_data)))\n",
    "print(sum(is.null(wholesale_data)))"
   ]
  },
  {
   "cell_type": "markdown",
   "metadata": {},
   "source": [
    "### Hunting for Outliers using Tukey's Method\n",
    "\n",
    "#### TODO: Write/LaTeX about tukey's method and using larger parameter b/c experience"
   ]
  },
  {
   "cell_type": "code",
   "execution_count": 13,
   "metadata": {},
   "outputs": [],
   "source": [
    "# TODO: ADD display_outliers() to handy_fns or source\n",
    "display_outliers <- function(feature, param = 4, df = wholesale_data) {\n",
    "    feature_vec =  as.vector(wholesale_data[[feature]])\n",
    "    Q1 <- quantile(feature_vec, .25)\n",
    "    Q3 <- quantile(feature_vec, .75)\n",
    "    tukey_window <- param*(Q3-Q1)\n",
    "\n",
    "    # less_than_Q1 & greater_than_Q3 are masks, meaning they're vectors whose\n",
    "    # elements are booleans\n",
    "    less_than_Q1 <- wholesale_data[[feature]] < Q1 - tukey_window\n",
    "    greater_than_Q3 <- wholesale_data[[feature]] > Q3 + tukey_window\n",
    "    tukey_mask <- (less_than_Q1 | greater_than_Q3)\n",
    "    outliers <- wholesale_data[tukey_mask,]\n",
    "    return(outliers)\n",
    "}"
   ]
  },
  {
   "cell_type": "code",
   "execution_count": 21,
   "metadata": {
    "scrolled": false
   },
   "outputs": [],
   "source": [
    "num_df <- Filter(is.numeric, wholesale_data)\n",
    "outlier_dfs <- sapply(X = colnames(num_df), FUN = display_outliers, simplify = FALSE)"
   ]
  },
  {
   "cell_type": "code",
   "execution_count": 22,
   "metadata": {
    "scrolled": true
   },
   "outputs": [
    {
     "data": {
      "text/html": [
       "<dl>\n",
       "\t<dt>$Fresh</dt>\n",
       "\t\t<dd><table>\n",
       "<thead><tr><th></th><th scope=col>Channel</th><th scope=col>Region</th><th scope=col>Fresh</th><th scope=col>Milk</th><th scope=col>Grocery</th><th scope=col>Frozen</th><th scope=col>Detergents_Paper</th><th scope=col>Deli</th><th scope=col>outlier_for</th></tr></thead>\n",
       "<tbody>\n",
       "\t<tr><th scope=row>126</th><td>Horeca</td><td>Other </td><td> 76237</td><td> 3473 </td><td> 7102 </td><td>16538 </td><td> 778  </td><td> 918  </td><td>FALSE </td></tr>\n",
       "\t<tr><th scope=row>182</th><td>Horeca</td><td>Other </td><td>112151</td><td>29627 </td><td>18148 </td><td>16745 </td><td>4948  </td><td>8550  </td><td>FALSE </td></tr>\n",
       "</tbody>\n",
       "</table>\n",
       "</dd>\n",
       "\t<dt>$Milk</dt>\n",
       "\t\t<dd><table>\n",
       "<thead><tr><th></th><th scope=col>Channel</th><th scope=col>Region</th><th scope=col>Fresh</th><th scope=col>Milk</th><th scope=col>Grocery</th><th scope=col>Frozen</th><th scope=col>Detergents_Paper</th><th scope=col>Deli</th><th scope=col>outlier_for</th></tr></thead>\n",
       "<tbody>\n",
       "\t<tr><th scope=row>24</th><td>Retail</td><td>Other </td><td>26373 </td><td>36423 </td><td>22019 </td><td> 5154 </td><td> 4337 </td><td>16523 </td><td>FALSE </td></tr>\n",
       "\t<tr><th scope=row>48</th><td>Retail</td><td>Other </td><td>44466 </td><td>54259 </td><td>55571 </td><td> 7782 </td><td>24171 </td><td> 6465 </td><td>FALSE </td></tr>\n",
       "\t<tr><th scope=row>57</th><td>Retail</td><td>Other </td><td> 4098 </td><td>29892 </td><td>26866 </td><td> 2616 </td><td>17740 </td><td> 1340 </td><td>FALSE </td></tr>\n",
       "\t<tr><th scope=row>62</th><td>Retail</td><td>Other </td><td>35942 </td><td>38369 </td><td>59598 </td><td> 3254 </td><td>26701 </td><td> 2017 </td><td>FALSE </td></tr>\n",
       "\t<tr><th scope=row>86</th><td>Retail</td><td>Other </td><td>16117 </td><td>46197 </td><td>92780 </td><td> 1026 </td><td>40827 </td><td> 2944 </td><td>FALSE </td></tr>\n",
       "\t<tr><th scope=row>87</th><td>Retail</td><td>Other </td><td>22925 </td><td>73498 </td><td>32114 </td><td>  987 </td><td>20070 </td><td>  903 </td><td>FALSE </td></tr>\n",
       "\t<tr><th scope=row>184</th><td>Horeca</td><td>Other </td><td>36847 </td><td>43950 </td><td>20170 </td><td>36534 </td><td>  239 </td><td>47943 </td><td>FALSE </td></tr>\n",
       "</tbody>\n",
       "</table>\n",
       "</dd>\n",
       "\t<dt>$Grocery</dt>\n",
       "\t\t<dd><table>\n",
       "<thead><tr><th></th><th scope=col>Channel</th><th scope=col>Region</th><th scope=col>Fresh</th><th scope=col>Milk</th><th scope=col>Grocery</th><th scope=col>Frozen</th><th scope=col>Detergents_Paper</th><th scope=col>Deli</th><th scope=col>outlier_for</th></tr></thead>\n",
       "<tbody>\n",
       "\t<tr><th scope=row>48</th><td>Retail</td><td>Other </td><td>44466 </td><td>54259 </td><td>55571 </td><td>7782  </td><td>24171 </td><td>6465  </td><td>FALSE </td></tr>\n",
       "\t<tr><th scope=row>62</th><td>Retail</td><td>Other </td><td>35942 </td><td>38369 </td><td>59598 </td><td>3254  </td><td>26701 </td><td>2017  </td><td>FALSE </td></tr>\n",
       "\t<tr><th scope=row>66</th><td>Retail</td><td>Other </td><td>   85 </td><td>20959 </td><td>45828 </td><td>  36  </td><td>24231 </td><td>1423  </td><td>FALSE </td></tr>\n",
       "\t<tr><th scope=row>86</th><td>Retail</td><td>Other </td><td>16117 </td><td>46197 </td><td>92780 </td><td>1026  </td><td>40827 </td><td>2944  </td><td>FALSE </td></tr>\n",
       "\t<tr><th scope=row>334</th><td>Retail</td><td>Oporto</td><td> 8565 </td><td> 4980 </td><td>67298 </td><td> 131  </td><td>38102 </td><td>1215  </td><td>FALSE </td></tr>\n",
       "</tbody>\n",
       "</table>\n",
       "</dd>\n",
       "\t<dt>$Frozen</dt>\n",
       "\t\t<dd><table>\n",
       "<thead><tr><th></th><th scope=col>Channel</th><th scope=col>Region</th><th scope=col>Fresh</th><th scope=col>Milk</th><th scope=col>Grocery</th><th scope=col>Frozen</th><th scope=col>Detergents_Paper</th><th scope=col>Deli</th><th scope=col>outlier_for</th></tr></thead>\n",
       "<tbody>\n",
       "\t<tr><th scope=row>94</th><td>Horeca</td><td>Other </td><td> 11314</td><td> 3090 </td><td> 2062 </td><td>35009 </td><td>  71  </td><td> 2698 </td><td>FALSE </td></tr>\n",
       "\t<tr><th scope=row>104</th><td>Horeca</td><td>Other </td><td> 56082</td><td> 3504 </td><td> 8906 </td><td>18028 </td><td>1480  </td><td> 2498 </td><td>FALSE </td></tr>\n",
       "\t<tr><th scope=row>126</th><td>Horeca</td><td>Other </td><td> 76237</td><td> 3473 </td><td> 7102 </td><td>16538 </td><td> 778  </td><td>  918 </td><td>FALSE </td></tr>\n",
       "\t<tr><th scope=row>182</th><td>Horeca</td><td>Other </td><td>112151</td><td>29627 </td><td>18148 </td><td>16745 </td><td>4948  </td><td> 8550 </td><td>FALSE </td></tr>\n",
       "\t<tr><th scope=row>184</th><td>Horeca</td><td>Other </td><td> 36847</td><td>43950 </td><td>20170 </td><td>36534 </td><td> 239  </td><td>47943 </td><td>FALSE </td></tr>\n",
       "\t<tr><th scope=row>197</th><td>Horeca</td><td>Lisbon</td><td> 30624</td><td> 7209 </td><td> 4897 </td><td>18711 </td><td> 763  </td><td> 2876 </td><td>FALSE </td></tr>\n",
       "\t<tr><th scope=row>278</th><td>Horeca</td><td>Other </td><td>  9061</td><td>  829 </td><td>  683 </td><td>16919 </td><td> 621  </td><td>  139 </td><td>FALSE </td></tr>\n",
       "\t<tr><th scope=row>326</th><td>Horeca</td><td>Oporto</td><td> 32717</td><td>16784 </td><td>13626 </td><td>60869 </td><td>1272  </td><td> 5609 </td><td>FALSE </td></tr>\n",
       "\t<tr><th scope=row>339</th><td>Horeca</td><td>Oporto</td><td>     3</td><td>  333 </td><td> 7021 </td><td>15601 </td><td>  15  </td><td>  550 </td><td>FALSE </td></tr>\n",
       "\t<tr><th scope=row>414</th><td>Horeca</td><td>Other </td><td>  4983</td><td> 4859 </td><td> 6633 </td><td>17866 </td><td> 912  </td><td> 2435 </td><td>FALSE </td></tr>\n",
       "\t<tr><th scope=row>426</th><td>Horeca</td><td>Other </td><td> 11243</td><td> 2408 </td><td> 2593 </td><td>15348 </td><td> 108  </td><td> 1886 </td><td>FALSE </td></tr>\n",
       "\t<tr><th scope=row>428</th><td>Horeca</td><td>Other </td><td> 31012</td><td>16687 </td><td> 5429 </td><td>15082 </td><td> 439  </td><td> 1163 </td><td>FALSE </td></tr>\n",
       "</tbody>\n",
       "</table>\n",
       "</dd>\n",
       "\t<dt>$Detergents_Paper</dt>\n",
       "\t\t<dd><table>\n",
       "<thead><tr><th></th><th scope=col>Channel</th><th scope=col>Region</th><th scope=col>Fresh</th><th scope=col>Milk</th><th scope=col>Grocery</th><th scope=col>Frozen</th><th scope=col>Detergents_Paper</th><th scope=col>Deli</th><th scope=col>outlier_for</th></tr></thead>\n",
       "<tbody>\n",
       "\t<tr><th scope=row>48</th><td>Retail</td><td>Other </td><td>44466 </td><td>54259 </td><td>55571 </td><td>7782  </td><td>24171 </td><td>6465  </td><td>FALSE </td></tr>\n",
       "\t<tr><th scope=row>62</th><td>Retail</td><td>Other </td><td>35942 </td><td>38369 </td><td>59598 </td><td>3254  </td><td>26701 </td><td>2017  </td><td>FALSE </td></tr>\n",
       "\t<tr><th scope=row>66</th><td>Retail</td><td>Other </td><td>   85 </td><td>20959 </td><td>45828 </td><td>  36  </td><td>24231 </td><td>1423  </td><td>FALSE </td></tr>\n",
       "\t<tr><th scope=row>86</th><td>Retail</td><td>Other </td><td>16117 </td><td>46197 </td><td>92780 </td><td>1026  </td><td>40827 </td><td>2944  </td><td>FALSE </td></tr>\n",
       "\t<tr><th scope=row>87</th><td>Retail</td><td>Other </td><td>22925 </td><td>73498 </td><td>32114 </td><td> 987  </td><td>20070 </td><td> 903  </td><td>FALSE </td></tr>\n",
       "\t<tr><th scope=row>93</th><td>Retail</td><td>Other </td><td> 9198 </td><td>27472 </td><td>32034 </td><td>3232  </td><td>18906 </td><td>5130  </td><td>FALSE </td></tr>\n",
       "\t<tr><th scope=row>212</th><td>Retail</td><td>Lisbon</td><td>12119 </td><td>28326 </td><td>39694 </td><td>4736  </td><td>19410 </td><td>2870  </td><td>FALSE </td></tr>\n",
       "\t<tr><th scope=row>252</th><td>Retail</td><td>Lisbon</td><td> 6134 </td><td>23133 </td><td>33586 </td><td>6746  </td><td>18594 </td><td>5121  </td><td>FALSE </td></tr>\n",
       "\t<tr><th scope=row>334</th><td>Retail</td><td>Oporto</td><td> 8565 </td><td> 4980 </td><td>67298 </td><td> 131  </td><td>38102 </td><td>1215  </td><td>FALSE </td></tr>\n",
       "</tbody>\n",
       "</table>\n",
       "</dd>\n",
       "\t<dt>$Deli</dt>\n",
       "\t\t<dd><table>\n",
       "<thead><tr><th></th><th scope=col>Channel</th><th scope=col>Region</th><th scope=col>Fresh</th><th scope=col>Milk</th><th scope=col>Grocery</th><th scope=col>Frozen</th><th scope=col>Detergents_Paper</th><th scope=col>Deli</th><th scope=col>outlier_for</th></tr></thead>\n",
       "<tbody>\n",
       "\t<tr><th scope=row>3</th><td>Retail</td><td>Other </td><td>  6353</td><td> 8808 </td><td> 7684 </td><td> 2405 </td><td>3516  </td><td> 7844 </td><td>FALSE </td></tr>\n",
       "\t<tr><th scope=row>24</th><td>Retail</td><td>Other </td><td> 26373</td><td>36423 </td><td>22019 </td><td> 5154 </td><td>4337  </td><td>16523 </td><td>FALSE </td></tr>\n",
       "\t<tr><th scope=row>72</th><td>Horeca</td><td>Other </td><td> 18291</td><td> 1266 </td><td>21042 </td><td> 5373 </td><td>4173  </td><td>14472 </td><td>FALSE </td></tr>\n",
       "\t<tr><th scope=row>88</th><td>Horeca</td><td>Other </td><td> 43265</td><td> 5025 </td><td> 8117 </td><td> 6312 </td><td>1579  </td><td>14351 </td><td>FALSE </td></tr>\n",
       "\t<tr><th scope=row>182</th><td>Horeca</td><td>Other </td><td>112151</td><td>29627 </td><td>18148 </td><td>16745 </td><td>4948  </td><td> 8550 </td><td>FALSE </td></tr>\n",
       "\t<tr><th scope=row>184</th><td>Horeca</td><td>Other </td><td> 36847</td><td>43950 </td><td>20170 </td><td>36534 </td><td> 239  </td><td>47943 </td><td>FALSE </td></tr>\n",
       "</tbody>\n",
       "</table>\n",
       "</dd>\n",
       "</dl>\n"
      ],
      "text/latex": [
       "\\begin{description}\n",
       "\\item[\\$Fresh] \\begin{tabular}{r|lllllllll}\n",
       "  & Channel & Region & Fresh & Milk & Grocery & Frozen & Detergents\\_Paper & Deli & outlier\\_for\\\\\n",
       "\\hline\n",
       "\t126 & Horeca & Other  &  76237 &  3473  &  7102  & 16538  &  778   &  918   & FALSE \\\\\n",
       "\t182 & Horeca & Other  & 112151 & 29627  & 18148  & 16745  & 4948   & 8550   & FALSE \\\\\n",
       "\\end{tabular}\n",
       "\n",
       "\\item[\\$Milk] \\begin{tabular}{r|lllllllll}\n",
       "  & Channel & Region & Fresh & Milk & Grocery & Frozen & Detergents\\_Paper & Deli & outlier\\_for\\\\\n",
       "\\hline\n",
       "\t24 & Retail & Other  & 26373  & 36423  & 22019  &  5154  &  4337  & 16523  & FALSE \\\\\n",
       "\t48 & Retail & Other  & 44466  & 54259  & 55571  &  7782  & 24171  &  6465  & FALSE \\\\\n",
       "\t57 & Retail & Other  &  4098  & 29892  & 26866  &  2616  & 17740  &  1340  & FALSE \\\\\n",
       "\t62 & Retail & Other  & 35942  & 38369  & 59598  &  3254  & 26701  &  2017  & FALSE \\\\\n",
       "\t86 & Retail & Other  & 16117  & 46197  & 92780  &  1026  & 40827  &  2944  & FALSE \\\\\n",
       "\t87 & Retail & Other  & 22925  & 73498  & 32114  &   987  & 20070  &   903  & FALSE \\\\\n",
       "\t184 & Horeca & Other  & 36847  & 43950  & 20170  & 36534  &   239  & 47943  & FALSE \\\\\n",
       "\\end{tabular}\n",
       "\n",
       "\\item[\\$Grocery] \\begin{tabular}{r|lllllllll}\n",
       "  & Channel & Region & Fresh & Milk & Grocery & Frozen & Detergents\\_Paper & Deli & outlier\\_for\\\\\n",
       "\\hline\n",
       "\t48 & Retail & Other  & 44466  & 54259  & 55571  & 7782   & 24171  & 6465   & FALSE \\\\\n",
       "\t62 & Retail & Other  & 35942  & 38369  & 59598  & 3254   & 26701  & 2017   & FALSE \\\\\n",
       "\t66 & Retail & Other  &    85  & 20959  & 45828  &   36   & 24231  & 1423   & FALSE \\\\\n",
       "\t86 & Retail & Other  & 16117  & 46197  & 92780  & 1026   & 40827  & 2944   & FALSE \\\\\n",
       "\t334 & Retail & Oporto &  8565  &  4980  & 67298  &  131   & 38102  & 1215   & FALSE \\\\\n",
       "\\end{tabular}\n",
       "\n",
       "\\item[\\$Frozen] \\begin{tabular}{r|lllllllll}\n",
       "  & Channel & Region & Fresh & Milk & Grocery & Frozen & Detergents\\_Paper & Deli & outlier\\_for\\\\\n",
       "\\hline\n",
       "\t94 & Horeca & Other  &  11314 &  3090  &  2062  & 35009  &   71   &  2698  & FALSE \\\\\n",
       "\t104 & Horeca & Other  &  56082 &  3504  &  8906  & 18028  & 1480   &  2498  & FALSE \\\\\n",
       "\t126 & Horeca & Other  &  76237 &  3473  &  7102  & 16538  &  778   &   918  & FALSE \\\\\n",
       "\t182 & Horeca & Other  & 112151 & 29627  & 18148  & 16745  & 4948   &  8550  & FALSE \\\\\n",
       "\t184 & Horeca & Other  &  36847 & 43950  & 20170  & 36534  &  239   & 47943  & FALSE \\\\\n",
       "\t197 & Horeca & Lisbon &  30624 &  7209  &  4897  & 18711  &  763   &  2876  & FALSE \\\\\n",
       "\t278 & Horeca & Other  &   9061 &   829  &   683  & 16919  &  621   &   139  & FALSE \\\\\n",
       "\t326 & Horeca & Oporto &  32717 & 16784  & 13626  & 60869  & 1272   &  5609  & FALSE \\\\\n",
       "\t339 & Horeca & Oporto &      3 &   333  &  7021  & 15601  &   15   &   550  & FALSE \\\\\n",
       "\t414 & Horeca & Other  &   4983 &  4859  &  6633  & 17866  &  912   &  2435  & FALSE \\\\\n",
       "\t426 & Horeca & Other  &  11243 &  2408  &  2593  & 15348  &  108   &  1886  & FALSE \\\\\n",
       "\t428 & Horeca & Other  &  31012 & 16687  &  5429  & 15082  &  439   &  1163  & FALSE \\\\\n",
       "\\end{tabular}\n",
       "\n",
       "\\item[\\$Detergents\\_Paper] \\begin{tabular}{r|lllllllll}\n",
       "  & Channel & Region & Fresh & Milk & Grocery & Frozen & Detergents\\_Paper & Deli & outlier\\_for\\\\\n",
       "\\hline\n",
       "\t48 & Retail & Other  & 44466  & 54259  & 55571  & 7782   & 24171  & 6465   & FALSE \\\\\n",
       "\t62 & Retail & Other  & 35942  & 38369  & 59598  & 3254   & 26701  & 2017   & FALSE \\\\\n",
       "\t66 & Retail & Other  &    85  & 20959  & 45828  &   36   & 24231  & 1423   & FALSE \\\\\n",
       "\t86 & Retail & Other  & 16117  & 46197  & 92780  & 1026   & 40827  & 2944   & FALSE \\\\\n",
       "\t87 & Retail & Other  & 22925  & 73498  & 32114  &  987   & 20070  &  903   & FALSE \\\\\n",
       "\t93 & Retail & Other  &  9198  & 27472  & 32034  & 3232   & 18906  & 5130   & FALSE \\\\\n",
       "\t212 & Retail & Lisbon & 12119  & 28326  & 39694  & 4736   & 19410  & 2870   & FALSE \\\\\n",
       "\t252 & Retail & Lisbon &  6134  & 23133  & 33586  & 6746   & 18594  & 5121   & FALSE \\\\\n",
       "\t334 & Retail & Oporto &  8565  &  4980  & 67298  &  131   & 38102  & 1215   & FALSE \\\\\n",
       "\\end{tabular}\n",
       "\n",
       "\\item[\\$Deli] \\begin{tabular}{r|lllllllll}\n",
       "  & Channel & Region & Fresh & Milk & Grocery & Frozen & Detergents\\_Paper & Deli & outlier\\_for\\\\\n",
       "\\hline\n",
       "\t3 & Retail & Other  &   6353 &  8808  &  7684  &  2405  & 3516   &  7844  & FALSE \\\\\n",
       "\t24 & Retail & Other  &  26373 & 36423  & 22019  &  5154  & 4337   & 16523  & FALSE \\\\\n",
       "\t72 & Horeca & Other  &  18291 &  1266  & 21042  &  5373  & 4173   & 14472  & FALSE \\\\\n",
       "\t88 & Horeca & Other  &  43265 &  5025  &  8117  &  6312  & 1579   & 14351  & FALSE \\\\\n",
       "\t182 & Horeca & Other  & 112151 & 29627  & 18148  & 16745  & 4948   &  8550  & FALSE \\\\\n",
       "\t184 & Horeca & Other  &  36847 & 43950  & 20170  & 36534  &  239   & 47943  & FALSE \\\\\n",
       "\\end{tabular}\n",
       "\n",
       "\\end{description}\n"
      ],
      "text/markdown": [
       "$Fresh\n",
       ":   \n",
       "| <!--/--> | Channel | Region | Fresh | Milk | Grocery | Frozen | Detergents_Paper | Deli | outlier_for | \n",
       "|---|---|\n",
       "| 126 | Horeca | Other  |  76237 |  3473  |  7102  | 16538  |  778   |  918   | FALSE  | \n",
       "| 182 | Horeca | Other  | 112151 | 29627  | 18148  | 16745  | 4948   | 8550   | FALSE  | \n",
       "\n",
       "\n",
       "\n",
       "$Milk\n",
       ":   \n",
       "| <!--/--> | Channel | Region | Fresh | Milk | Grocery | Frozen | Detergents_Paper | Deli | outlier_for | \n",
       "|---|---|---|---|---|---|---|\n",
       "| 24 | Retail | Other  | 26373  | 36423  | 22019  |  5154  |  4337  | 16523  | FALSE  | \n",
       "| 48 | Retail | Other  | 44466  | 54259  | 55571  |  7782  | 24171  |  6465  | FALSE  | \n",
       "| 57 | Retail | Other  |  4098  | 29892  | 26866  |  2616  | 17740  |  1340  | FALSE  | \n",
       "| 62 | Retail | Other  | 35942  | 38369  | 59598  |  3254  | 26701  |  2017  | FALSE  | \n",
       "| 86 | Retail | Other  | 16117  | 46197  | 92780  |  1026  | 40827  |  2944  | FALSE  | \n",
       "| 87 | Retail | Other  | 22925  | 73498  | 32114  |   987  | 20070  |   903  | FALSE  | \n",
       "| 184 | Horeca | Other  | 36847  | 43950  | 20170  | 36534  |   239  | 47943  | FALSE  | \n",
       "\n",
       "\n",
       "\n",
       "$Grocery\n",
       ":   \n",
       "| <!--/--> | Channel | Region | Fresh | Milk | Grocery | Frozen | Detergents_Paper | Deli | outlier_for | \n",
       "|---|---|---|---|---|\n",
       "| 48 | Retail | Other  | 44466  | 54259  | 55571  | 7782   | 24171  | 6465   | FALSE  | \n",
       "| 62 | Retail | Other  | 35942  | 38369  | 59598  | 3254   | 26701  | 2017   | FALSE  | \n",
       "| 66 | Retail | Other  |    85  | 20959  | 45828  |   36   | 24231  | 1423   | FALSE  | \n",
       "| 86 | Retail | Other  | 16117  | 46197  | 92780  | 1026   | 40827  | 2944   | FALSE  | \n",
       "| 334 | Retail | Oporto |  8565  |  4980  | 67298  |  131   | 38102  | 1215   | FALSE  | \n",
       "\n",
       "\n",
       "\n",
       "$Frozen\n",
       ":   \n",
       "| <!--/--> | Channel | Region | Fresh | Milk | Grocery | Frozen | Detergents_Paper | Deli | outlier_for | \n",
       "|---|---|---|---|---|---|---|---|---|---|---|---|\n",
       "| 94 | Horeca | Other  |  11314 |  3090  |  2062  | 35009  |   71   |  2698  | FALSE  | \n",
       "| 104 | Horeca | Other  |  56082 |  3504  |  8906  | 18028  | 1480   |  2498  | FALSE  | \n",
       "| 126 | Horeca | Other  |  76237 |  3473  |  7102  | 16538  |  778   |   918  | FALSE  | \n",
       "| 182 | Horeca | Other  | 112151 | 29627  | 18148  | 16745  | 4948   |  8550  | FALSE  | \n",
       "| 184 | Horeca | Other  |  36847 | 43950  | 20170  | 36534  |  239   | 47943  | FALSE  | \n",
       "| 197 | Horeca | Lisbon |  30624 |  7209  |  4897  | 18711  |  763   |  2876  | FALSE  | \n",
       "| 278 | Horeca | Other  |   9061 |   829  |   683  | 16919  |  621   |   139  | FALSE  | \n",
       "| 326 | Horeca | Oporto |  32717 | 16784  | 13626  | 60869  | 1272   |  5609  | FALSE  | \n",
       "| 339 | Horeca | Oporto |      3 |   333  |  7021  | 15601  |   15   |   550  | FALSE  | \n",
       "| 414 | Horeca | Other  |   4983 |  4859  |  6633  | 17866  |  912   |  2435  | FALSE  | \n",
       "| 426 | Horeca | Other  |  11243 |  2408  |  2593  | 15348  |  108   |  1886  | FALSE  | \n",
       "| 428 | Horeca | Other  |  31012 | 16687  |  5429  | 15082  |  439   |  1163  | FALSE  | \n",
       "\n",
       "\n",
       "\n",
       "$Detergents_Paper\n",
       ":   \n",
       "| <!--/--> | Channel | Region | Fresh | Milk | Grocery | Frozen | Detergents_Paper | Deli | outlier_for | \n",
       "|---|---|---|---|---|---|---|---|---|\n",
       "| 48 | Retail | Other  | 44466  | 54259  | 55571  | 7782   | 24171  | 6465   | FALSE  | \n",
       "| 62 | Retail | Other  | 35942  | 38369  | 59598  | 3254   | 26701  | 2017   | FALSE  | \n",
       "| 66 | Retail | Other  |    85  | 20959  | 45828  |   36   | 24231  | 1423   | FALSE  | \n",
       "| 86 | Retail | Other  | 16117  | 46197  | 92780  | 1026   | 40827  | 2944   | FALSE  | \n",
       "| 87 | Retail | Other  | 22925  | 73498  | 32114  |  987   | 20070  |  903   | FALSE  | \n",
       "| 93 | Retail | Other  |  9198  | 27472  | 32034  | 3232   | 18906  | 5130   | FALSE  | \n",
       "| 212 | Retail | Lisbon | 12119  | 28326  | 39694  | 4736   | 19410  | 2870   | FALSE  | \n",
       "| 252 | Retail | Lisbon |  6134  | 23133  | 33586  | 6746   | 18594  | 5121   | FALSE  | \n",
       "| 334 | Retail | Oporto |  8565  |  4980  | 67298  |  131   | 38102  | 1215   | FALSE  | \n",
       "\n",
       "\n",
       "\n",
       "$Deli\n",
       ":   \n",
       "| <!--/--> | Channel | Region | Fresh | Milk | Grocery | Frozen | Detergents_Paper | Deli | outlier_for | \n",
       "|---|---|---|---|---|---|\n",
       "| 3 | Retail | Other  |   6353 |  8808  |  7684  |  2405  | 3516   |  7844  | FALSE  | \n",
       "| 24 | Retail | Other  |  26373 | 36423  | 22019  |  5154  | 4337   | 16523  | FALSE  | \n",
       "| 72 | Horeca | Other  |  18291 |  1266  | 21042  |  5373  | 4173   | 14472  | FALSE  | \n",
       "| 88 | Horeca | Other  |  43265 |  5025  |  8117  |  6312  | 1579   | 14351  | FALSE  | \n",
       "| 182 | Horeca | Other  | 112151 | 29627  | 18148  | 16745  | 4948   |  8550  | FALSE  | \n",
       "| 184 | Horeca | Other  |  36847 | 43950  | 20170  | 36534  |  239   | 47943  | FALSE  | \n",
       "\n",
       "\n",
       "\n",
       "\n",
       "\n"
      ],
      "text/plain": [
       "$Fresh\n",
       "    Channel Region  Fresh  Milk Grocery Frozen Detergents_Paper Deli\n",
       "126  Horeca  Other  76237  3473    7102  16538              778  918\n",
       "182  Horeca  Other 112151 29627   18148  16745             4948 8550\n",
       "    outlier_for\n",
       "126       FALSE\n",
       "182       FALSE\n",
       "\n",
       "$Milk\n",
       "    Channel Region Fresh  Milk Grocery Frozen Detergents_Paper  Deli\n",
       "24   Retail  Other 26373 36423   22019   5154             4337 16523\n",
       "48   Retail  Other 44466 54259   55571   7782            24171  6465\n",
       "57   Retail  Other  4098 29892   26866   2616            17740  1340\n",
       "62   Retail  Other 35942 38369   59598   3254            26701  2017\n",
       "86   Retail  Other 16117 46197   92780   1026            40827  2944\n",
       "87   Retail  Other 22925 73498   32114    987            20070   903\n",
       "184  Horeca  Other 36847 43950   20170  36534              239 47943\n",
       "    outlier_for\n",
       "24        FALSE\n",
       "48        FALSE\n",
       "57        FALSE\n",
       "62        FALSE\n",
       "86        FALSE\n",
       "87        FALSE\n",
       "184       FALSE\n",
       "\n",
       "$Grocery\n",
       "    Channel Region Fresh  Milk Grocery Frozen Detergents_Paper Deli outlier_for\n",
       "48   Retail  Other 44466 54259   55571   7782            24171 6465       FALSE\n",
       "62   Retail  Other 35942 38369   59598   3254            26701 2017       FALSE\n",
       "66   Retail  Other    85 20959   45828     36            24231 1423       FALSE\n",
       "86   Retail  Other 16117 46197   92780   1026            40827 2944       FALSE\n",
       "334  Retail Oporto  8565  4980   67298    131            38102 1215       FALSE\n",
       "\n",
       "$Frozen\n",
       "    Channel Region  Fresh  Milk Grocery Frozen Detergents_Paper  Deli\n",
       "94   Horeca  Other  11314  3090    2062  35009               71  2698\n",
       "104  Horeca  Other  56082  3504    8906  18028             1480  2498\n",
       "126  Horeca  Other  76237  3473    7102  16538              778   918\n",
       "182  Horeca  Other 112151 29627   18148  16745             4948  8550\n",
       "184  Horeca  Other  36847 43950   20170  36534              239 47943\n",
       "197  Horeca Lisbon  30624  7209    4897  18711              763  2876\n",
       "278  Horeca  Other   9061   829     683  16919              621   139\n",
       "326  Horeca Oporto  32717 16784   13626  60869             1272  5609\n",
       "339  Horeca Oporto      3   333    7021  15601               15   550\n",
       "414  Horeca  Other   4983  4859    6633  17866              912  2435\n",
       "426  Horeca  Other  11243  2408    2593  15348              108  1886\n",
       "428  Horeca  Other  31012 16687    5429  15082              439  1163\n",
       "    outlier_for\n",
       "94        FALSE\n",
       "104       FALSE\n",
       "126       FALSE\n",
       "182       FALSE\n",
       "184       FALSE\n",
       "197       FALSE\n",
       "278       FALSE\n",
       "326       FALSE\n",
       "339       FALSE\n",
       "414       FALSE\n",
       "426       FALSE\n",
       "428       FALSE\n",
       "\n",
       "$Detergents_Paper\n",
       "    Channel Region Fresh  Milk Grocery Frozen Detergents_Paper Deli outlier_for\n",
       "48   Retail  Other 44466 54259   55571   7782            24171 6465       FALSE\n",
       "62   Retail  Other 35942 38369   59598   3254            26701 2017       FALSE\n",
       "66   Retail  Other    85 20959   45828     36            24231 1423       FALSE\n",
       "86   Retail  Other 16117 46197   92780   1026            40827 2944       FALSE\n",
       "87   Retail  Other 22925 73498   32114    987            20070  903       FALSE\n",
       "93   Retail  Other  9198 27472   32034   3232            18906 5130       FALSE\n",
       "212  Retail Lisbon 12119 28326   39694   4736            19410 2870       FALSE\n",
       "252  Retail Lisbon  6134 23133   33586   6746            18594 5121       FALSE\n",
       "334  Retail Oporto  8565  4980   67298    131            38102 1215       FALSE\n",
       "\n",
       "$Deli\n",
       "    Channel Region  Fresh  Milk Grocery Frozen Detergents_Paper  Deli\n",
       "3    Retail  Other   6353  8808    7684   2405             3516  7844\n",
       "24   Retail  Other  26373 36423   22019   5154             4337 16523\n",
       "72   Horeca  Other  18291  1266   21042   5373             4173 14472\n",
       "88   Horeca  Other  43265  5025    8117   6312             1579 14351\n",
       "182  Horeca  Other 112151 29627   18148  16745             4948  8550\n",
       "184  Horeca  Other  36847 43950   20170  36534              239 47943\n",
       "    outlier_for\n",
       "3         FALSE\n",
       "24        FALSE\n",
       "72        FALSE\n",
       "88        FALSE\n",
       "182       FALSE\n",
       "184       FALSE\n"
      ]
     },
     "metadata": {},
     "output_type": "display_data"
    }
   ],
   "source": [
    "outlier_dfs"
   ]
  },
  {
   "cell_type": "code",
   "execution_count": 27,
   "metadata": {},
   "outputs": [
    {
     "name": "stdout",
     "output_type": "stream",
     "text": [
      "[1] \"Fresh 2\"\n",
      "[1] \"Milk 7\"\n",
      "[1] \"Grocery 5\"\n",
      "[1] \"Frozen 12\"\n",
      "[1] \"Detergents_Paper 9\"\n",
      "[1] \"Deli 6\"\n",
      "[1] \"sum_outliers =  41\"\n"
     ]
    }
   ],
   "source": [
    "# It is nice to be able to see the data frames filtered for outliers, \n",
    "# but it's very granular. Let's get a count of the number of outliers for \n",
    "# each feature. \n",
    "# nb that sum_outliers does not equal the number of outliers. The number of outliers may be less b/c\n",
    "# of overlap\n",
    "wholesale_num = Filter(is.numeric, wholesale_data)\n",
    "sum_outliers <- 0\n",
    "for (feature in colnames(wholesale_num)) {\n",
    "    outlier_count <- dim(display_outliers(feature))[1]\n",
    "    print(paste(feature, outlier_count))\n",
    "    \n",
    "    sum_outliers <- sum_outliers + outlier_count\n",
    "}\n",
    "print(paste(\"sum_outliers = \", sum_outliers))"
   ]
  },
  {
   "cell_type": "code",
   "execution_count": 29,
   "metadata": {},
   "outputs": [],
   "source": [
    "raw_outliers <- c()\n",
    "for (feat in outlier_dfs) {\n",
    "    ndx <- c(row.names(feat))\n",
    "    raw_outliers <- c(raw_outliers, ndx)\n",
    "}\n",
    "freq_outliers <- as.data.frame(table(raw_outliers))"
   ]
  },
  {
   "cell_type": "code",
   "execution_count": 30,
   "metadata": {},
   "outputs": [
    {
     "data": {
      "text/html": [
       "<table>\n",
       "<thead><tr><th></th><th scope=col>raw_outliers</th><th scope=col>Freq</th></tr></thead>\n",
       "<tbody>\n",
       "\t<tr><th scope=row>2</th><td>126</td><td>2  </td></tr>\n",
       "\t<tr><th scope=row>3</th><td>182</td><td>3  </td></tr>\n",
       "\t<tr><th scope=row>4</th><td>184</td><td>3  </td></tr>\n",
       "\t<tr><th scope=row>7</th><td>24 </td><td>2  </td></tr>\n",
       "\t<tr><th scope=row>12</th><td>334</td><td>2  </td></tr>\n",
       "\t<tr><th scope=row>17</th><td>48 </td><td>3  </td></tr>\n",
       "\t<tr><th scope=row>19</th><td>62 </td><td>3  </td></tr>\n",
       "\t<tr><th scope=row>20</th><td>66 </td><td>2  </td></tr>\n",
       "\t<tr><th scope=row>22</th><td>86 </td><td>3  </td></tr>\n",
       "\t<tr><th scope=row>23</th><td>87 </td><td>2  </td></tr>\n",
       "</tbody>\n",
       "</table>\n"
      ],
      "text/latex": [
       "\\begin{tabular}{r|ll}\n",
       "  & raw\\_outliers & Freq\\\\\n",
       "\\hline\n",
       "\t2 & 126 & 2  \\\\\n",
       "\t3 & 182 & 3  \\\\\n",
       "\t4 & 184 & 3  \\\\\n",
       "\t7 & 24  & 2  \\\\\n",
       "\t12 & 334 & 2  \\\\\n",
       "\t17 & 48  & 3  \\\\\n",
       "\t19 & 62  & 3  \\\\\n",
       "\t20 & 66  & 2  \\\\\n",
       "\t22 & 86  & 3  \\\\\n",
       "\t23 & 87  & 2  \\\\\n",
       "\\end{tabular}\n"
      ],
      "text/markdown": [
       "\n",
       "| <!--/--> | raw_outliers | Freq | \n",
       "|---|---|---|---|---|---|---|---|---|---|\n",
       "| 2 | 126 | 2   | \n",
       "| 3 | 182 | 3   | \n",
       "| 4 | 184 | 3   | \n",
       "| 7 | 24  | 2   | \n",
       "| 12 | 334 | 2   | \n",
       "| 17 | 48  | 3   | \n",
       "| 19 | 62  | 3   | \n",
       "| 20 | 66  | 2   | \n",
       "| 22 | 86  | 3   | \n",
       "| 23 | 87  | 2   | \n",
       "\n",
       "\n"
      ],
      "text/plain": [
       "   raw_outliers Freq\n",
       "2  126          2   \n",
       "3  182          3   \n",
       "4  184          3   \n",
       "7  24           2   \n",
       "12 334          2   \n",
       "17 48           3   \n",
       "19 62           3   \n",
       "20 66           2   \n",
       "22 86           3   \n",
       "23 87           2   "
      ]
     },
     "metadata": {},
     "output_type": "display_data"
    }
   ],
   "source": [
    "freq_outliers[freq_outliers$Freq > 1,]"
   ]
  },
  {
   "cell_type": "code",
   "execution_count": 31,
   "metadata": {},
   "outputs": [],
   "source": [
    "wholesale_data['outlier_for'] <- rownames(wholesale_data) %in% raw_outliers"
   ]
  },
  {
   "cell_type": "code",
   "execution_count": 32,
   "metadata": {},
   "outputs": [],
   "source": [
    "outliers_many_feats <- freq_outliers[freq_outliers$Freq > 1,]$raw_outliers"
   ]
  },
  {
   "cell_type": "code",
   "execution_count": 33,
   "metadata": {},
   "outputs": [],
   "source": [
    "many_feats <- rownames(wholesale_data) %in% outliers_many_feats\n",
    "wholesale_data$outlier_for[many_feats] <- 'many_feats'"
   ]
  },
  {
   "cell_type": "code",
   "execution_count": 34,
   "metadata": {},
   "outputs": [],
   "source": [
    "wholesale_data$outlier_for[wholesale_data$outlier_for == TRUE] <- 'one_feat'\n",
    "wholesale_data$outlier_for[wholesale_data$outlier_for == FALSE] <- 'zero'"
   ]
  },
  {
   "cell_type": "code",
   "execution_count": 35,
   "metadata": {},
   "outputs": [
    {
     "data": {
      "text/html": [
       "<table>\n",
       "<thead><tr><th scope=col>Channel</th><th scope=col>Region</th><th scope=col>Fresh</th><th scope=col>Milk</th><th scope=col>Grocery</th><th scope=col>Frozen</th><th scope=col>Detergents_Paper</th><th scope=col>Deli</th><th scope=col>outlier_for</th></tr></thead>\n",
       "<tbody>\n",
       "\t<tr><td>Retail  </td><td>Other   </td><td>12669   </td><td>9656    </td><td>7561    </td><td> 214    </td><td>2674    </td><td>1338    </td><td>zero    </td></tr>\n",
       "\t<tr><td>Retail  </td><td>Other   </td><td> 7057   </td><td>9810    </td><td>9568    </td><td>1762    </td><td>3293    </td><td>1776    </td><td>zero    </td></tr>\n",
       "\t<tr><td>Retail  </td><td>Other   </td><td> 6353   </td><td>8808    </td><td>7684    </td><td>2405    </td><td>3516    </td><td>7844    </td><td>one_feat</td></tr>\n",
       "\t<tr><td>Horeca  </td><td>Other   </td><td>13265   </td><td>1196    </td><td>4221    </td><td>6404    </td><td> 507    </td><td>1788    </td><td>zero    </td></tr>\n",
       "\t<tr><td>Retail  </td><td>Other   </td><td>22615   </td><td>5410    </td><td>7198    </td><td>3915    </td><td>1777    </td><td>5185    </td><td>zero    </td></tr>\n",
       "\t<tr><td>Retail  </td><td>Other   </td><td> 9413   </td><td>8259    </td><td>5126    </td><td> 666    </td><td>1795    </td><td>1451    </td><td>zero    </td></tr>\n",
       "</tbody>\n",
       "</table>\n"
      ],
      "text/latex": [
       "\\begin{tabular}{r|lllllllll}\n",
       " Channel & Region & Fresh & Milk & Grocery & Frozen & Detergents\\_Paper & Deli & outlier\\_for\\\\\n",
       "\\hline\n",
       "\t Retail   & Other    & 12669    & 9656     & 7561     &  214     & 2674     & 1338     & zero    \\\\\n",
       "\t Retail   & Other    &  7057    & 9810     & 9568     & 1762     & 3293     & 1776     & zero    \\\\\n",
       "\t Retail     & Other      &  6353      & 8808       & 7684       & 2405       & 3516       & 7844       & one\\_feat\\\\\n",
       "\t Horeca   & Other    & 13265    & 1196     & 4221     & 6404     &  507     & 1788     & zero    \\\\\n",
       "\t Retail   & Other    & 22615    & 5410     & 7198     & 3915     & 1777     & 5185     & zero    \\\\\n",
       "\t Retail   & Other    &  9413    & 8259     & 5126     &  666     & 1795     & 1451     & zero    \\\\\n",
       "\\end{tabular}\n"
      ],
      "text/markdown": [
       "\n",
       "Channel | Region | Fresh | Milk | Grocery | Frozen | Detergents_Paper | Deli | outlier_for | \n",
       "|---|---|---|---|---|---|\n",
       "| Retail   | Other    | 12669    | 9656     | 7561     |  214     | 2674     | 1338     | zero     | \n",
       "| Retail   | Other    |  7057    | 9810     | 9568     | 1762     | 3293     | 1776     | zero     | \n",
       "| Retail   | Other    |  6353    | 8808     | 7684     | 2405     | 3516     | 7844     | one_feat | \n",
       "| Horeca   | Other    | 13265    | 1196     | 4221     | 6404     |  507     | 1788     | zero     | \n",
       "| Retail   | Other    | 22615    | 5410     | 7198     | 3915     | 1777     | 5185     | zero     | \n",
       "| Retail   | Other    |  9413    | 8259     | 5126     |  666     | 1795     | 1451     | zero     | \n",
       "\n",
       "\n"
      ],
      "text/plain": [
       "  Channel Region Fresh Milk Grocery Frozen Detergents_Paper Deli outlier_for\n",
       "1 Retail  Other  12669 9656 7561     214   2674             1338 zero       \n",
       "2 Retail  Other   7057 9810 9568    1762   3293             1776 zero       \n",
       "3 Retail  Other   6353 8808 7684    2405   3516             7844 one_feat   \n",
       "4 Horeca  Other  13265 1196 4221    6404    507             1788 zero       \n",
       "5 Retail  Other  22615 5410 7198    3915   1777             5185 zero       \n",
       "6 Retail  Other   9413 8259 5126     666   1795             1451 zero       "
      ]
     },
     "metadata": {},
     "output_type": "display_data"
    }
   ],
   "source": [
    "head(wholesale_data)"
   ]
  },
  {
   "cell_type": "markdown",
   "metadata": {},
   "source": [
    "From R Documentation:\n",
    "\n",
    "    ggpairs(data, mapping = NULL, columns = 1:ncol(data), title = NULL,\n",
    "      upper = list(continuous = \"cor\", combo = \"box_no_facet\", discrete =\n",
    "      \"facetbar\", na = \"na\"), lower = list(continuous = \"points\", combo =\n",
    "      \"facethist\", discrete = \"facetbar\", na = \"na\"), diag = list(continuous =\n",
    "      \"densityDiag\", discrete = \"barDiag\", na = \"naDiag\"), params = NULL, ...,\n",
    "      xlab = NULL, ylab = NULL, axisLabels = c(\"show\", \"internal\", \"none\"),\n",
    "      columnLabels = colnames(data[columns]), labeller = \"label_value\",\n",
    "      switch = NULL, showStrips = NULL, legend = NULL,\n",
    "      cardinality_threshold = 15, legends = stop(\"deprecated\"))\n"
   ]
  },
  {
   "cell_type": "code",
   "execution_count": 36,
   "metadata": {
    "scrolled": false
   },
   "outputs": [
    {
     "data": {},
     "metadata": {},
     "output_type": "display_data"
    },
    {
     "ename": "ERROR",
     "evalue": "Error in png(tf, width, height, \"in\", pointsize, bg, res, antialias = antialias): unable to start png() device\n",
     "output_type": "error",
     "traceback": [
      "Error in png(tf, width, height, \"in\", pointsize, bg, res, antialias = antialias): unable to start png() device\nTraceback:\n"
     ]
    },
    {
     "data": {
      "text/plain": [
       "plot without title"
      ]
     },
     "metadata": {},
     "output_type": "display_data"
    }
   ],
   "source": [
    "options(repr.plot.width = 10, repr.plot.height = 10)\n",
    "ggpairs(data = wholesale_data, \n",
    "        columns = c('Fresh','Milk', 'Grocery', 'Frozen', 'Detergents_Paper', 'Deli'), \n",
    "        mapping = aes(color = outlier_for),\n",
    "        upper = list(continuous = wrap(ggally_cor, size = 2.5, alignPercent = 0.8)),\n",
    "        lower = list(continuous = wrap(ggally_points, alpha = 0.2)),\n",
    "       )\n",
    "       "
   ]
  },
  {
   "cell_type": "code",
   "execution_count": null,
   "metadata": {
    "scrolled": false
   },
   "outputs": [],
   "source": [
    "show_outliers_in_scatter <- function(xFeat, yFeat) {\n",
    "    ggplot(wholesale_data, aes_string(x = substitute(xFeat), y = substitute(yFeat), color = 'outlier_for',\n",
    "                                alpha = 'outlier_for')) +\n",
    "    geom_text(check_overlap = FALSE, size = 4, aes(label = rownames(wholesale_data))) +\n",
    "    scale_alpha_manual(guide = 'none', values = list(zero = 0.02, one_feat = 0.3, many_feats = 1))\n",
    "}\n",
    "\n",
    "show_outliers_in_scatter(Milk, Grocery)\n",
    "show_outliers_in_scatter(Milk, Fresh)\n",
    "show_outliers_in_scatter(Frozen, Grocery)\n",
    "show_outliers_in_scatter(Deli, Detergents_Paper)"
   ]
  },
  {
   "cell_type": "markdown",
   "metadata": {},
   "source": [
    "#### Verdict: Will Not Remove Outliers\n",
    "Usually, we would remove some outliers but (1) there appears that outliers for many features are also the most extreme outliers within each feature and (2) there is no target variable so outliers are less of a concern. If there were outliers for many features closer to denser areas. "
   ]
  },
  {
   "cell_type": "code",
   "execution_count": 38,
   "metadata": {},
   "outputs": [
    {
     "ename": "ERROR",
     "evalue": "Error in parse(text = x, srcfile = src): <text>:1:1: unexpected input\n1: % store wholesale_data\n    ^\n",
     "output_type": "error",
     "traceback": [
      "Error in parse(text = x, srcfile = src): <text>:1:1: unexpected input\n1: % store wholesale_data\n    ^\nTraceback:\n"
     ]
    }
   ],
   "source": [
    "% store wholesale_data"
   ]
  }
 ],
 "metadata": {
  "kernelspec": {
   "display_name": "R",
   "language": "R",
   "name": "ir"
  },
  "language_info": {
   "codemirror_mode": "r",
   "file_extension": ".r",
   "mimetype": "text/x-r-source",
   "name": "R",
   "pygments_lexer": "r",
   "version": "3.4.3"
  }
 },
 "nbformat": 4,
 "nbformat_minor": 2
}
