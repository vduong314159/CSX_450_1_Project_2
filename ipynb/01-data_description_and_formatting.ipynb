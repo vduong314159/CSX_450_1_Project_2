{
 "cells": [
  {
   "cell_type": "code",
   "execution_count": 5,
   "metadata": {},
   "outputs": [
    {
     "name": "stderr",
     "output_type": "stream",
     "text": [
      "Updating HTML index of packages in '.Library'\n",
      "Making 'packages.html' ... done\n"
     ]
    }
   ],
   "source": [
    "install.packages('mlbench'); library(mlbench)"
   ]
  },
  {
   "cell_type": "markdown",
   "metadata": {},
   "source": [
    "## Starting Project\n",
    "We start by just getting a general idea of the data and formatting the data as appropriate. For example, the dataset may load some numbers in as string data type when a numeric data type would be more appropriate.\n",
    "\n",
    "We will put code that pulls the dataset and makes those edits in an R file, called load_data.r, that I will run at the top of each notebook. The following notebooks will not run the following code  \n",
    "wholesale_data <- read.csv('../data/dataset.csv', header = TRUE)  \n",
    "but rather  \n",
    "source('../src/load_data.r')"
   ]
  },
  {
   "cell_type": "code",
   "execution_count": 19,
   "metadata": {},
   "outputs": [],
   "source": [
    "wholesale_data = read.csv('../data/dataset.csv', header = TRUE)"
   ]
  },
  {
   "cell_type": "markdown",
   "metadata": {},
   "source": [
    "## Dataset Description\n",
    "We will just get some basic descriptors of the data set such as the dimensions, memory size, what the first dozen or so rows look like, data types in the dataset, and the dataset's memory size. We will make sure that the data loaded correctly and matches the description from the UCI Machine Learning Repository."
   ]
  },
  {
   "cell_type": "code",
   "execution_count": 43,
   "metadata": {},
   "outputs": [
    {
     "data": {
      "text/html": [
       "<ol class=list-inline>\n",
       "\t<li>440</li>\n",
       "\t<li>8</li>\n",
       "</ol>\n"
      ],
      "text/latex": [
       "\\begin{enumerate*}\n",
       "\\item 440\n",
       "\\item 8\n",
       "\\end{enumerate*}\n"
      ],
      "text/markdown": [
       "1. 440\n",
       "2. 8\n",
       "\n",
       "\n"
      ],
      "text/plain": [
       "[1] 440   8"
      ]
     },
     "metadata": {},
     "output_type": "display_data"
    },
    {
     "data": {
      "text/plain": [
       "16520 bytes"
      ]
     },
     "metadata": {},
     "output_type": "display_data"
    },
    {
     "data": {
      "text/html": [
       "<table>\n",
       "<thead><tr><th scope=col>Channel</th><th scope=col>Region</th><th scope=col>Fresh</th><th scope=col>Milk</th><th scope=col>Grocery</th><th scope=col>Frozen</th><th scope=col>Detergents_Paper</th><th scope=col>Delicatessen</th></tr></thead>\n",
       "<tbody>\n",
       "\t<tr><td>Retail</td><td>Other </td><td>12669 </td><td>9656  </td><td>7561  </td><td> 214  </td><td>2674  </td><td>1338  </td></tr>\n",
       "\t<tr><td>Retail</td><td>Other </td><td> 7057 </td><td>9810  </td><td>9568  </td><td>1762  </td><td>3293  </td><td>1776  </td></tr>\n",
       "\t<tr><td>Retail</td><td>Other </td><td> 6353 </td><td>8808  </td><td>7684  </td><td>2405  </td><td>3516  </td><td>7844  </td></tr>\n",
       "\t<tr><td>Horeca</td><td>Other </td><td>13265 </td><td>1196  </td><td>4221  </td><td>6404  </td><td> 507  </td><td>1788  </td></tr>\n",
       "\t<tr><td>Retail</td><td>Other </td><td>22615 </td><td>5410  </td><td>7198  </td><td>3915  </td><td>1777  </td><td>5185  </td></tr>\n",
       "\t<tr><td>Retail</td><td>Other </td><td> 9413 </td><td>8259  </td><td>5126  </td><td> 666  </td><td>1795  </td><td>1451  </td></tr>\n",
       "</tbody>\n",
       "</table>\n"
      ],
      "text/latex": [
       "\\begin{tabular}{r|llllllll}\n",
       " Channel & Region & Fresh & Milk & Grocery & Frozen & Detergents\\_Paper & Delicatessen\\\\\n",
       "\\hline\n",
       "\t Retail & Other  & 12669  & 9656   & 7561   &  214   & 2674   & 1338  \\\\\n",
       "\t Retail & Other  &  7057  & 9810   & 9568   & 1762   & 3293   & 1776  \\\\\n",
       "\t Retail & Other  &  6353  & 8808   & 7684   & 2405   & 3516   & 7844  \\\\\n",
       "\t Horeca & Other  & 13265  & 1196   & 4221   & 6404   &  507   & 1788  \\\\\n",
       "\t Retail & Other  & 22615  & 5410   & 7198   & 3915   & 1777   & 5185  \\\\\n",
       "\t Retail & Other  &  9413  & 8259   & 5126   &  666   & 1795   & 1451  \\\\\n",
       "\\end{tabular}\n"
      ],
      "text/markdown": [
       "\n",
       "Channel | Region | Fresh | Milk | Grocery | Frozen | Detergents_Paper | Delicatessen | \n",
       "|---|---|---|---|---|---|\n",
       "| Retail | Other  | 12669  | 9656   | 7561   |  214   | 2674   | 1338   | \n",
       "| Retail | Other  |  7057  | 9810   | 9568   | 1762   | 3293   | 1776   | \n",
       "| Retail | Other  |  6353  | 8808   | 7684   | 2405   | 3516   | 7844   | \n",
       "| Horeca | Other  | 13265  | 1196   | 4221   | 6404   |  507   | 1788   | \n",
       "| Retail | Other  | 22615  | 5410   | 7198   | 3915   | 1777   | 5185   | \n",
       "| Retail | Other  |  9413  | 8259   | 5126   |  666   | 1795   | 1451   | \n",
       "\n",
       "\n"
      ],
      "text/plain": [
       "  Channel Region Fresh Milk Grocery Frozen Detergents_Paper Delicatessen\n",
       "1 Retail  Other  12669 9656 7561     214   2674             1338        \n",
       "2 Retail  Other   7057 9810 9568    1762   3293             1776        \n",
       "3 Retail  Other   6353 8808 7684    2405   3516             7844        \n",
       "4 Horeca  Other  13265 1196 4221    6404    507             1788        \n",
       "5 Retail  Other  22615 5410 7198    3915   1777             5185        \n",
       "6 Retail  Other   9413 8259 5126     666   1795             1451        "
      ]
     },
     "metadata": {},
     "output_type": "display_data"
    }
   ],
   "source": [
    "# dim stands for dimensions\n",
    "dim(wholesale_data)\n",
    "# size in memory\n",
    "object.size(wholesale_data)\n",
    "# first dozen or so rows\n",
    "head(wholesale_data)"
   ]
  },
  {
   "cell_type": "code",
   "execution_count": 21,
   "metadata": {},
   "outputs": [
    {
     "name": "stdout",
     "output_type": "stream",
     "text": [
      "'data.frame':\t440 obs. of  8 variables:\n",
      " $ Channel         : int  2 2 2 1 2 2 2 2 1 2 ...\n",
      " $ Region          : int  3 3 3 3 3 3 3 3 3 3 ...\n",
      " $ Fresh           : int  12669 7057 6353 13265 22615 9413 12126 7579 5963 6006 ...\n",
      " $ Milk            : int  9656 9810 8808 1196 5410 8259 3199 4956 3648 11093 ...\n",
      " $ Grocery         : int  7561 9568 7684 4221 7198 5126 6975 9426 6192 18881 ...\n",
      " $ Frozen          : int  214 1762 2405 6404 3915 666 480 1669 425 1159 ...\n",
      " $ Detergents_Paper: int  2674 3293 3516 507 1777 1795 3140 3321 1716 7425 ...\n",
      " $ Delicassen      : int  1338 1776 7844 1788 5185 1451 545 2566 750 2098 ...\n"
     ]
    }
   ],
   "source": [
    "#str stands for structure\n",
    "str(wholesale_data)"
   ]
  },
  {
   "cell_type": "markdown",
   "metadata": {},
   "source": [
    "### Summary Statistics"
   ]
  },
  {
   "cell_type": "code",
   "execution_count": null,
   "metadata": {},
   "outputs": [],
   "source": [
    "summary(wholesale_data)"
   ]
  },
  {
   "cell_type": "markdown",
   "metadata": {},
   "source": [
    "## Data Conditioning\n",
    "I will format the dataset to make it easier to work with."
   ]
  },
  {
   "cell_type": "markdown",
   "metadata": {},
   "source": [
    "### Fixing Spelling Error\n",
    "There is a typo in the dataset. \"Delicatessen\" is spelled incorrectly. We need to fix that."
   ]
  },
  {
   "cell_type": "code",
   "execution_count": 34,
   "metadata": {
    "scrolled": true
   },
   "outputs": [
    {
     "data": {
      "text/html": [
       "<table>\n",
       "<thead><tr><th scope=col>Channel</th><th scope=col>Region</th><th scope=col>Fresh</th><th scope=col>Milk</th><th scope=col>Grocery</th><th scope=col>Frozen</th><th scope=col>Detergents_Paper</th><th scope=col>Delicatessen</th></tr></thead>\n",
       "<tbody>\n",
       "\t<tr><td>Retail</td><td>Other </td><td>12669 </td><td>9656  </td><td>7561  </td><td> 214  </td><td>2674  </td><td>1338  </td></tr>\n",
       "\t<tr><td>Retail</td><td>Other </td><td> 7057 </td><td>9810  </td><td>9568  </td><td>1762  </td><td>3293  </td><td>1776  </td></tr>\n",
       "\t<tr><td>Retail</td><td>Other </td><td> 6353 </td><td>8808  </td><td>7684  </td><td>2405  </td><td>3516  </td><td>7844  </td></tr>\n",
       "\t<tr><td>Horeca</td><td>Other </td><td>13265 </td><td>1196  </td><td>4221  </td><td>6404  </td><td> 507  </td><td>1788  </td></tr>\n",
       "\t<tr><td>Retail</td><td>Other </td><td>22615 </td><td>5410  </td><td>7198  </td><td>3915  </td><td>1777  </td><td>5185  </td></tr>\n",
       "\t<tr><td>Retail</td><td>Other </td><td> 9413 </td><td>8259  </td><td>5126  </td><td> 666  </td><td>1795  </td><td>1451  </td></tr>\n",
       "</tbody>\n",
       "</table>\n"
      ],
      "text/latex": [
       "\\begin{tabular}{r|llllllll}\n",
       " Channel & Region & Fresh & Milk & Grocery & Frozen & Detergents\\_Paper & Delicatessen\\\\\n",
       "\\hline\n",
       "\t Retail & Other  & 12669  & 9656   & 7561   &  214   & 2674   & 1338  \\\\\n",
       "\t Retail & Other  &  7057  & 9810   & 9568   & 1762   & 3293   & 1776  \\\\\n",
       "\t Retail & Other  &  6353  & 8808   & 7684   & 2405   & 3516   & 7844  \\\\\n",
       "\t Horeca & Other  & 13265  & 1196   & 4221   & 6404   &  507   & 1788  \\\\\n",
       "\t Retail & Other  & 22615  & 5410   & 7198   & 3915   & 1777   & 5185  \\\\\n",
       "\t Retail & Other  &  9413  & 8259   & 5126   &  666   & 1795   & 1451  \\\\\n",
       "\\end{tabular}\n"
      ],
      "text/markdown": [
       "\n",
       "Channel | Region | Fresh | Milk | Grocery | Frozen | Detergents_Paper | Delicatessen | \n",
       "|---|---|---|---|---|---|\n",
       "| Retail | Other  | 12669  | 9656   | 7561   |  214   | 2674   | 1338   | \n",
       "| Retail | Other  |  7057  | 9810   | 9568   | 1762   | 3293   | 1776   | \n",
       "| Retail | Other  |  6353  | 8808   | 7684   | 2405   | 3516   | 7844   | \n",
       "| Horeca | Other  | 13265  | 1196   | 4221   | 6404   |  507   | 1788   | \n",
       "| Retail | Other  | 22615  | 5410   | 7198   | 3915   | 1777   | 5185   | \n",
       "| Retail | Other  |  9413  | 8259   | 5126   |  666   | 1795   | 1451   | \n",
       "\n",
       "\n"
      ],
      "text/plain": [
       "  Channel Region Fresh Milk Grocery Frozen Detergents_Paper Delicatessen\n",
       "1 Retail  Other  12669 9656 7561     214   2674             1338        \n",
       "2 Retail  Other   7057 9810 9568    1762   3293             1776        \n",
       "3 Retail  Other   6353 8808 7684    2405   3516             7844        \n",
       "4 Horeca  Other  13265 1196 4221    6404    507             1788        \n",
       "5 Retail  Other  22615 5410 7198    3915   1777             5185        \n",
       "6 Retail  Other   9413 8259 5126     666   1795             1451        "
      ]
     },
     "metadata": {},
     "output_type": "display_data"
    }
   ],
   "source": [
    "colnames(wholesale_data)[8] <- 'Delicatessen'\n",
    "head(wholesale_data)"
   ]
  },
  {
   "cell_type": "markdown",
   "metadata": {},
   "source": [
    "### Making Dataset More Readable and Understandable"
   ]
  },
  {
   "cell_type": "markdown",
   "metadata": {},
   "source": [
    "From the output of str(wholesale_data), we see that all the data is of type integer which matches the UCI Machine Learning repository's description of the dataset. I will change those integers to the actual names of channels and regions.\n",
    "\n",
    "We can what region 1, 2, and 3 correspond by matching the frequency of each region with the frequency given in the dataset description. In the dataset, the regions are called region 1, 2, and 3. \n",
    "From the dataset description:  \n",
    "REGION\tFrequency  \n",
    "Lisbon\t77  \n",
    "Oporto\t47  \n",
    "Other Region 316   \n",
    "Total\t440\n",
    "\n",
    "We used the same method to determine what channels 1 and 2 were.   \n",
    "CHANNEL\tFrequency  \n",
    "Horeca\t298  \n",
    "Retail 142  \n",
    "Total 440 "
   ]
  },
  {
   "cell_type": "code",
   "execution_count": 35,
   "metadata": {},
   "outputs": [
    {
     "name": "stdout",
     "output_type": "stream",
     "text": [
      "Channel"
     ]
    },
    {
     "data": {
      "text/plain": [
       "\n",
       "Horeca Retail \n",
       "   298    142 "
      ]
     },
     "metadata": {},
     "output_type": "display_data"
    },
    {
     "name": "stdout",
     "output_type": "stream",
     "text": [
      "Region"
     ]
    },
    {
     "data": {
      "text/plain": [
       "\n",
       "Lisbon Oporto  Other \n",
       "    77     47    316 "
      ]
     },
     "metadata": {},
     "output_type": "display_data"
    }
   ],
   "source": [
    "# This will give me the frequency of 1 and 2 in Channel column\n",
    "cat(\"Channel\"); table(wholesale_data$Channel)\n",
    "# This will give me the frequency of 1, 2, and 3 in Region column\n",
    "cat(\"Region\"); table(wholesale_data$Region)"
   ]
  },
  {
   "cell_type": "markdown",
   "metadata": {},
   "source": [
    "We can infer the following.  \n",
    "Region 1 is Lisbon  \n",
    "Region 2 is Oporto  \n",
    "Region 3 is \"Other Region\". \n",
    "\n",
    "\n",
    "Channel 1 is Horeca (which stands for hotel/restaurant/cafe).  \n",
    "Channel 2 is retail. "
   ]
  },
  {
   "cell_type": "code",
   "execution_count": 47,
   "metadata": {},
   "outputs": [],
   "source": [
    "wholesale_data$Channel[wholesale_data$Channel == 1] <- \"Horeca\"\n",
    "wholesale_data$Channel[wholesale_data$Channel == 2] <- \"Retail\"\n",
    "\n",
    "wholesale_data$Region[wholesale_data$Region == 1] <- \"Lisbon\"\n",
    "wholesale_data$Region[wholesale_data$Region == 2] <- \"Oporto\"\n",
    "wholesale_data$Region[wholesale_data$Region == 3] <- \"Other\""
   ]
  },
  {
   "cell_type": "markdown",
   "metadata": {},
   "source": [
    "By changing the datatypes of the Channel and Region columns from integers to factors (categorical values in R), we are also telling R that those two features are not numerical factors. This affects calculations. We see this in how the summary statistics have changed."
   ]
  },
  {
   "cell_type": "code",
   "execution_count": 49,
   "metadata": {},
   "outputs": [
    {
     "data": {
      "text/plain": [
       "   Channel       Region        Fresh             Milk          Grocery     \n",
       " Horeca:298   Lisbon: 77   Min.   :     3   Min.   :   55   Min.   :    3  \n",
       " Retail:142   Oporto: 47   1st Qu.:  3128   1st Qu.: 1533   1st Qu.: 2153  \n",
       "              Other :316   Median :  8504   Median : 3627   Median : 4756  \n",
       "                           Mean   : 12000   Mean   : 5796   Mean   : 7951  \n",
       "                           3rd Qu.: 16934   3rd Qu.: 7190   3rd Qu.:10656  \n",
       "                           Max.   :112151   Max.   :73498   Max.   :92780  \n",
       "     Frozen        Detergents_Paper   Delicatessen    \n",
       " Min.   :   25.0   Min.   :    3.0   Min.   :    3.0  \n",
       " 1st Qu.:  742.2   1st Qu.:  256.8   1st Qu.:  408.2  \n",
       " Median : 1526.0   Median :  816.5   Median :  965.5  \n",
       " Mean   : 3071.9   Mean   : 2881.5   Mean   : 1524.9  \n",
       " 3rd Qu.: 3554.2   3rd Qu.: 3922.0   3rd Qu.: 1820.2  \n",
       " Max.   :60869.0   Max.   :40827.0   Max.   :47943.0  "
      ]
     },
     "metadata": {},
     "output_type": "display_data"
    }
   ],
   "source": [
    "summary(wholesale_data)"
   ]
  }
 ],
 "metadata": {
  "kernelspec": {
   "display_name": "R",
   "language": "R",
   "name": "ir"
  },
  "language_info": {
   "codemirror_mode": "r",
   "file_extension": ".r",
   "mimetype": "text/x-r-source",
   "name": "R",
   "pygments_lexer": "r",
   "version": "3.4.1"
  }
 },
 "nbformat": 4,
 "nbformat_minor": 2
}
